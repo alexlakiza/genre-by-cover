{
 "cells": [
  {
   "cell_type": "code",
   "execution_count": 1,
   "metadata": {
    "pycharm": {
     "is_executing": true
    }
   },
   "outputs": [],
   "source": [
    "import pandas as pd\n",
    "import pickle"
   ]
  },
  {
   "cell_type": "code",
   "execution_count": 2,
   "metadata": {},
   "outputs": [],
   "source": [
    "genres = ['Jazz', 'R&B', 'Pop', 'Rap/Hip Hop', 'Alternative', 'Rock', 'Metal', 'Electro']"
   ]
  },
  {
   "cell_type": "code",
   "execution_count": 3,
   "metadata": {},
   "outputs": [],
   "source": [
    "genres_short = ['Jazz', 'R&B', 'Pop', 'Rap', 'Alternative', 'Rock', 'Metal', 'Electro']"
   ]
  },
  {
   "cell_type": "code",
   "execution_count": 23,
   "metadata": {},
   "outputs": [],
   "source": [
    "list_for_final_df = []\n",
    "\n",
    "for i, val in enumerate(genres_short):\n",
    "    with open(f\"../data/albums_from_deezer_{val}.pkl\", \"rb\") as f:\n",
    "        list_for_final_df.append(pd.DataFrame.from_dict(pickle.load(f)).T)\n",
    "\n",
    "df = pd.concat(list_for_final_df, ignore_index=True)"
   ]
  },
  {
   "cell_type": "code",
   "execution_count": 24,
   "metadata": {},
   "outputs": [],
   "source": [
    "df.rename(columns={\"album_artist:\": \"album_artist\"}, inplace=True)"
   ]
  },
  {
   "cell_type": "code",
   "execution_count": 25,
   "metadata": {},
   "outputs": [
    {
     "data": {
      "text/plain": [
       "(10351, 7)"
      ]
     },
     "execution_count": 25,
     "metadata": {},
     "output_type": "execute_result"
    }
   ],
   "source": [
    "df.shape"
   ]
  },
  {
   "cell_type": "code",
   "execution_count": 26,
   "metadata": {},
   "outputs": [],
   "source": [
    "df.drop_duplicates(subset=['album_title', 'album_artist'], ignore_index=True, inplace=True)"
   ]
  },
  {
   "cell_type": "code",
   "execution_count": 27,
   "metadata": {},
   "outputs": [
    {
     "data": {
      "text/plain": [
       "(9898, 7)"
      ]
     },
     "execution_count": 27,
     "metadata": {},
     "output_type": "execute_result"
    }
   ],
   "source": [
    "df.shape"
   ]
  },
  {
   "cell_type": "code",
   "execution_count": 29,
   "metadata": {},
   "outputs": [
    {
     "data": {
      "text/plain": [
       "Rock           2194\n",
       "Jazz           1700\n",
       "Electro        1582\n",
       "R&B            1122\n",
       "Rap/Hip Hop    1104\n",
       "Alternative     798\n",
       "Metal           792\n",
       "Pop             606\n",
       "Name: deezer_artist_genre, dtype: int64"
      ]
     },
     "execution_count": 29,
     "metadata": {},
     "output_type": "execute_result"
    }
   ],
   "source": [
    "df['deezer_artist_genre'].value_counts()"
   ]
  },
  {
   "cell_type": "code",
   "execution_count": 30,
   "metadata": {},
   "outputs": [],
   "source": [
    "df['primary_album_genre'] = df['album_genres'].str[0]"
   ]
  },
  {
   "cell_type": "code",
   "execution_count": 31,
   "metadata": {},
   "outputs": [
    {
     "data": {
      "text/plain": [
       "Rock                   2263\n",
       "Jazz                   1429\n",
       "Pop                    1303\n",
       "Electro                1214\n",
       "Rap/Hip Hop            1141\n",
       "Alternative             967\n",
       "R&B                     791\n",
       "Metal                   416\n",
       "Dance                   155\n",
       "Films/Games              51\n",
       "Brazilian Music          50\n",
       "Classical                49\n",
       "Latin Music              23\n",
       "Country                  15\n",
       "Soul & Funk               8\n",
       "Contemporary Soul         5\n",
       "Singer & Songwriter       5\n",
       "Kids                      4\n",
       "Folk                      3\n",
       "Reggae                    3\n",
       "African Music             2\n",
       "Sports                    1\n",
       "Name: primary_album_genre, dtype: int64"
      ]
     },
     "execution_count": 31,
     "metadata": {},
     "output_type": "execute_result"
    }
   ],
   "source": [
    "df['primary_album_genre'].value_counts()"
   ]
  },
  {
   "cell_type": "code",
   "execution_count": 32,
   "metadata": {},
   "outputs": [],
   "source": [
    "df = df[df['primary_album_genre'].isin(genres)].copy()"
   ]
  },
  {
   "cell_type": "code",
   "execution_count": 37,
   "metadata": {},
   "outputs": [],
   "source": [
    "df = df.reset_index().drop('index', axis=1).copy()"
   ]
  },
  {
   "cell_type": "code",
   "execution_count": 38,
   "metadata": {},
   "outputs": [
    {
     "data": {
      "text/html": [
       "<div>\n",
       "<style scoped>\n",
       "    .dataframe tbody tr th:only-of-type {\n",
       "        vertical-align: middle;\n",
       "    }\n",
       "\n",
       "    .dataframe tbody tr th {\n",
       "        vertical-align: top;\n",
       "    }\n",
       "\n",
       "    .dataframe thead th {\n",
       "        text-align: right;\n",
       "    }\n",
       "</style>\n",
       "<table border=\"1\" class=\"dataframe\">\n",
       "  <thead>\n",
       "    <tr style=\"text-align: right;\">\n",
       "      <th></th>\n",
       "      <th>album_title</th>\n",
       "      <th>album_cover_link</th>\n",
       "      <th>album_cover_local_name</th>\n",
       "      <th>album_genres</th>\n",
       "      <th>deezer_artist_genre</th>\n",
       "      <th>record_type</th>\n",
       "    </tr>\n",
       "    <tr>\n",
       "      <th>primary_album_genre</th>\n",
       "      <th></th>\n",
       "      <th></th>\n",
       "      <th></th>\n",
       "      <th></th>\n",
       "      <th></th>\n",
       "      <th></th>\n",
       "    </tr>\n",
       "  </thead>\n",
       "  <tbody>\n",
       "    <tr>\n",
       "      <th>Alternative</th>\n",
       "      <td>7.674603</td>\n",
       "      <td>7.674603</td>\n",
       "      <td>7.674603</td>\n",
       "      <td>7.674603</td>\n",
       "      <td>7.674603</td>\n",
       "      <td>7.674603</td>\n",
       "    </tr>\n",
       "    <tr>\n",
       "      <th>Electro</th>\n",
       "      <td>13.795455</td>\n",
       "      <td>13.795455</td>\n",
       "      <td>13.795455</td>\n",
       "      <td>13.795455</td>\n",
       "      <td>13.795455</td>\n",
       "      <td>13.795455</td>\n",
       "    </tr>\n",
       "    <tr>\n",
       "      <th>Jazz</th>\n",
       "      <td>18.558442</td>\n",
       "      <td>18.558442</td>\n",
       "      <td>18.558442</td>\n",
       "      <td>18.558442</td>\n",
       "      <td>18.558442</td>\n",
       "      <td>18.558442</td>\n",
       "    </tr>\n",
       "    <tr>\n",
       "      <th>Metal</th>\n",
       "      <td>7.703704</td>\n",
       "      <td>7.703704</td>\n",
       "      <td>7.703704</td>\n",
       "      <td>7.703704</td>\n",
       "      <td>7.703704</td>\n",
       "      <td>7.703704</td>\n",
       "    </tr>\n",
       "    <tr>\n",
       "      <th>Pop</th>\n",
       "      <td>5.977064</td>\n",
       "      <td>5.977064</td>\n",
       "      <td>5.977064</td>\n",
       "      <td>5.977064</td>\n",
       "      <td>5.977064</td>\n",
       "      <td>5.977064</td>\n",
       "    </tr>\n",
       "    <tr>\n",
       "      <th>R&amp;B</th>\n",
       "      <td>9.091954</td>\n",
       "      <td>9.091954</td>\n",
       "      <td>9.091954</td>\n",
       "      <td>9.091954</td>\n",
       "      <td>9.091954</td>\n",
       "      <td>9.091954</td>\n",
       "    </tr>\n",
       "    <tr>\n",
       "      <th>Rap/Hip Hop</th>\n",
       "      <td>8.150000</td>\n",
       "      <td>8.150000</td>\n",
       "      <td>8.150000</td>\n",
       "      <td>8.150000</td>\n",
       "      <td>8.150000</td>\n",
       "      <td>8.150000</td>\n",
       "    </tr>\n",
       "    <tr>\n",
       "      <th>Rock</th>\n",
       "      <td>12.642458</td>\n",
       "      <td>12.642458</td>\n",
       "      <td>12.642458</td>\n",
       "      <td>12.642458</td>\n",
       "      <td>12.642458</td>\n",
       "      <td>12.642458</td>\n",
       "    </tr>\n",
       "  </tbody>\n",
       "</table>\n",
       "</div>"
      ],
      "text/plain": [
       "                     album_title  album_cover_link  album_cover_local_name  \\\n",
       "primary_album_genre                                                          \n",
       "Alternative             7.674603          7.674603                7.674603   \n",
       "Electro                13.795455         13.795455               13.795455   \n",
       "Jazz                   18.558442         18.558442               18.558442   \n",
       "Metal                   7.703704          7.703704                7.703704   \n",
       "Pop                     5.977064          5.977064                5.977064   \n",
       "R&B                     9.091954          9.091954                9.091954   \n",
       "Rap/Hip Hop             8.150000          8.150000                8.150000   \n",
       "Rock                   12.642458         12.642458               12.642458   \n",
       "\n",
       "                     album_genres  deezer_artist_genre  record_type  \n",
       "primary_album_genre                                                  \n",
       "Alternative              7.674603             7.674603     7.674603  \n",
       "Electro                 13.795455            13.795455    13.795455  \n",
       "Jazz                    18.558442            18.558442    18.558442  \n",
       "Metal                    7.703704             7.703704     7.703704  \n",
       "Pop                      5.977064             5.977064     5.977064  \n",
       "R&B                      9.091954             9.091954     9.091954  \n",
       "Rap/Hip Hop              8.150000             8.150000     8.150000  \n",
       "Rock                    12.642458            12.642458    12.642458  "
      ]
     },
     "execution_count": 38,
     "metadata": {},
     "output_type": "execute_result"
    }
   ],
   "source": [
    "df.groupby(['primary_album_genre', 'album_artist']).count().groupby(['primary_album_genre']).mean()"
   ]
  },
  {
   "cell_type": "code",
   "execution_count": 39,
   "metadata": {},
   "outputs": [
    {
     "data": {
      "text/plain": [
       "Zen Music Garden      494\n",
       "Pearl Jam             220\n",
       "The Rolling Stones    124\n",
       "Blank & Jones          93\n",
       "Moby                   79\n",
       "                     ... \n",
       "Kungs                   1\n",
       "Miyagi                  1\n",
       "Клава Кока              1\n",
       "Fyn Dynamic             1\n",
       "Ollane                  1\n",
       "Name: album_artist, Length: 565, dtype: int64"
      ]
     },
     "execution_count": 39,
     "metadata": {},
     "output_type": "execute_result"
    }
   ],
   "source": [
    "df['album_artist'].value_counts()"
   ]
  },
  {
   "cell_type": "code",
   "execution_count": 40,
   "metadata": {},
   "outputs": [
    {
     "data": {
      "text/html": [
       "<div>\n",
       "<style scoped>\n",
       "    .dataframe tbody tr th:only-of-type {\n",
       "        vertical-align: middle;\n",
       "    }\n",
       "\n",
       "    .dataframe tbody tr th {\n",
       "        vertical-align: top;\n",
       "    }\n",
       "\n",
       "    .dataframe thead th {\n",
       "        text-align: right;\n",
       "    }\n",
       "</style>\n",
       "<table border=\"1\" class=\"dataframe\">\n",
       "  <thead>\n",
       "    <tr style=\"text-align: right;\">\n",
       "      <th></th>\n",
       "      <th>album_title</th>\n",
       "      <th>album_artist</th>\n",
       "      <th>album_cover_link</th>\n",
       "      <th>album_cover_local_name</th>\n",
       "      <th>album_genres</th>\n",
       "      <th>deezer_artist_genre</th>\n",
       "      <th>record_type</th>\n",
       "      <th>primary_album_genre</th>\n",
       "    </tr>\n",
       "  </thead>\n",
       "  <tbody>\n",
       "    <tr>\n",
       "      <th>0</th>\n",
       "      <td>Come Swing With Me! (Remastered)</td>\n",
       "      <td>Frank Sinatra</td>\n",
       "      <td>https://e-cdns-images.dzcdn.net/images/cover/c...</td>\n",
       "      <td>../data/album_covers/Jazz/0.jpg</td>\n",
       "      <td>[Pop]</td>\n",
       "      <td>Jazz</td>\n",
       "      <td>album</td>\n",
       "      <td>Pop</td>\n",
       "    </tr>\n",
       "    <tr>\n",
       "      <th>1</th>\n",
       "      <td>Sings For Only The Lonely (1958 Mono Mix / Exp...</td>\n",
       "      <td>Frank Sinatra</td>\n",
       "      <td>https://e-cdns-images.dzcdn.net/images/cover/c...</td>\n",
       "      <td>../data/album_covers/Jazz/1.jpg</td>\n",
       "      <td>[Jazz]</td>\n",
       "      <td>Jazz</td>\n",
       "      <td>album</td>\n",
       "      <td>Jazz</td>\n",
       "    </tr>\n",
       "    <tr>\n",
       "      <th>2</th>\n",
       "      <td>Nice 'n' Easy (2020 Mix)</td>\n",
       "      <td>Frank Sinatra</td>\n",
       "      <td>https://e-cdns-images.dzcdn.net/images/cover/3...</td>\n",
       "      <td>../data/album_covers/Jazz/2.jpg</td>\n",
       "      <td>[Pop]</td>\n",
       "      <td>Jazz</td>\n",
       "      <td>album</td>\n",
       "      <td>Pop</td>\n",
       "    </tr>\n",
       "    <tr>\n",
       "      <th>3</th>\n",
       "      <td>Where Are You? (Remastered)</td>\n",
       "      <td>Frank Sinatra</td>\n",
       "      <td>https://e-cdns-images.dzcdn.net/images/cover/2...</td>\n",
       "      <td>../data/album_covers/Jazz/3.jpg</td>\n",
       "      <td>[Pop]</td>\n",
       "      <td>Jazz</td>\n",
       "      <td>album</td>\n",
       "      <td>Pop</td>\n",
       "    </tr>\n",
       "    <tr>\n",
       "      <th>4</th>\n",
       "      <td>September Of My Years (Expanded Edition)</td>\n",
       "      <td>Frank Sinatra</td>\n",
       "      <td>https://e-cdns-images.dzcdn.net/images/cover/8...</td>\n",
       "      <td>../data/album_covers/Jazz/4.jpg</td>\n",
       "      <td>[Jazz]</td>\n",
       "      <td>Jazz</td>\n",
       "      <td>album</td>\n",
       "      <td>Jazz</td>\n",
       "    </tr>\n",
       "    <tr>\n",
       "      <th>...</th>\n",
       "      <td>...</td>\n",
       "      <td>...</td>\n",
       "      <td>...</td>\n",
       "      <td>...</td>\n",
       "      <td>...</td>\n",
       "      <td>...</td>\n",
       "      <td>...</td>\n",
       "      <td>...</td>\n",
       "    </tr>\n",
       "    <tr>\n",
       "      <th>9519</th>\n",
       "      <td>Electronic Wonderland</td>\n",
       "      <td>Harmogy</td>\n",
       "      <td>https://e-cdns-images.dzcdn.net/images/cover/6...</td>\n",
       "      <td>../data/album_covers/Electro/1611.jpg</td>\n",
       "      <td>[Electro]</td>\n",
       "      <td>Electro</td>\n",
       "      <td>album</td>\n",
       "      <td>Electro</td>\n",
       "    </tr>\n",
       "    <tr>\n",
       "      <th>9520</th>\n",
       "      <td>Stay Calm</td>\n",
       "      <td>Harmogy</td>\n",
       "      <td>https://e-cdns-images.dzcdn.net/images/cover/6...</td>\n",
       "      <td>../data/album_covers/Electro/1612.jpg</td>\n",
       "      <td>[Electro]</td>\n",
       "      <td>Electro</td>\n",
       "      <td>ep</td>\n",
       "      <td>Electro</td>\n",
       "    </tr>\n",
       "    <tr>\n",
       "      <th>9521</th>\n",
       "      <td>Paradise</td>\n",
       "      <td>Harmogy</td>\n",
       "      <td>https://e-cdns-images.dzcdn.net/images/cover/b...</td>\n",
       "      <td>../data/album_covers/Electro/1613.jpg</td>\n",
       "      <td>[Electro]</td>\n",
       "      <td>Electro</td>\n",
       "      <td>ep</td>\n",
       "      <td>Electro</td>\n",
       "    </tr>\n",
       "    <tr>\n",
       "      <th>9522</th>\n",
       "      <td>Dark Moonlight</td>\n",
       "      <td>Harmogy</td>\n",
       "      <td>https://e-cdns-images.dzcdn.net/images/cover/3...</td>\n",
       "      <td>../data/album_covers/Electro/1614.jpg</td>\n",
       "      <td>[Electro]</td>\n",
       "      <td>Electro</td>\n",
       "      <td>ep</td>\n",
       "      <td>Electro</td>\n",
       "    </tr>\n",
       "    <tr>\n",
       "      <th>9523</th>\n",
       "      <td>Ecstasy</td>\n",
       "      <td>Harmogy</td>\n",
       "      <td>https://e-cdns-images.dzcdn.net/images/cover/b...</td>\n",
       "      <td>../data/album_covers/Electro/1615.jpg</td>\n",
       "      <td>[Electro]</td>\n",
       "      <td>Electro</td>\n",
       "      <td>ep</td>\n",
       "      <td>Electro</td>\n",
       "    </tr>\n",
       "  </tbody>\n",
       "</table>\n",
       "<p>9524 rows × 8 columns</p>\n",
       "</div>"
      ],
      "text/plain": [
       "                                            album_title   album_artist  \\\n",
       "0                      Come Swing With Me! (Remastered)  Frank Sinatra   \n",
       "1     Sings For Only The Lonely (1958 Mono Mix / Exp...  Frank Sinatra   \n",
       "2                              Nice 'n' Easy (2020 Mix)  Frank Sinatra   \n",
       "3                           Where Are You? (Remastered)  Frank Sinatra   \n",
       "4              September Of My Years (Expanded Edition)  Frank Sinatra   \n",
       "...                                                 ...            ...   \n",
       "9519                              Electronic Wonderland        Harmogy   \n",
       "9520                                          Stay Calm        Harmogy   \n",
       "9521                                           Paradise        Harmogy   \n",
       "9522                                     Dark Moonlight        Harmogy   \n",
       "9523                                            Ecstasy        Harmogy   \n",
       "\n",
       "                                       album_cover_link  \\\n",
       "0     https://e-cdns-images.dzcdn.net/images/cover/c...   \n",
       "1     https://e-cdns-images.dzcdn.net/images/cover/c...   \n",
       "2     https://e-cdns-images.dzcdn.net/images/cover/3...   \n",
       "3     https://e-cdns-images.dzcdn.net/images/cover/2...   \n",
       "4     https://e-cdns-images.dzcdn.net/images/cover/8...   \n",
       "...                                                 ...   \n",
       "9519  https://e-cdns-images.dzcdn.net/images/cover/6...   \n",
       "9520  https://e-cdns-images.dzcdn.net/images/cover/6...   \n",
       "9521  https://e-cdns-images.dzcdn.net/images/cover/b...   \n",
       "9522  https://e-cdns-images.dzcdn.net/images/cover/3...   \n",
       "9523  https://e-cdns-images.dzcdn.net/images/cover/b...   \n",
       "\n",
       "                     album_cover_local_name album_genres deezer_artist_genre  \\\n",
       "0           ../data/album_covers/Jazz/0.jpg        [Pop]                Jazz   \n",
       "1           ../data/album_covers/Jazz/1.jpg       [Jazz]                Jazz   \n",
       "2           ../data/album_covers/Jazz/2.jpg        [Pop]                Jazz   \n",
       "3           ../data/album_covers/Jazz/3.jpg        [Pop]                Jazz   \n",
       "4           ../data/album_covers/Jazz/4.jpg       [Jazz]                Jazz   \n",
       "...                                     ...          ...                 ...   \n",
       "9519  ../data/album_covers/Electro/1611.jpg    [Electro]             Electro   \n",
       "9520  ../data/album_covers/Electro/1612.jpg    [Electro]             Electro   \n",
       "9521  ../data/album_covers/Electro/1613.jpg    [Electro]             Electro   \n",
       "9522  ../data/album_covers/Electro/1614.jpg    [Electro]             Electro   \n",
       "9523  ../data/album_covers/Electro/1615.jpg    [Electro]             Electro   \n",
       "\n",
       "     record_type primary_album_genre  \n",
       "0          album                 Pop  \n",
       "1          album                Jazz  \n",
       "2          album                 Pop  \n",
       "3          album                 Pop  \n",
       "4          album                Jazz  \n",
       "...          ...                 ...  \n",
       "9519       album             Electro  \n",
       "9520          ep             Electro  \n",
       "9521          ep             Electro  \n",
       "9522          ep             Electro  \n",
       "9523          ep             Electro  \n",
       "\n",
       "[9524 rows x 8 columns]"
      ]
     },
     "execution_count": 40,
     "metadata": {},
     "output_type": "execute_result"
    }
   ],
   "source": [
    "df"
   ]
  },
  {
   "cell_type": "code",
   "execution_count": 43,
   "metadata": {},
   "outputs": [],
   "source": [
    "df.to_parquet(\"../data/main_df.parquet\")"
   ]
  },
  {
   "cell_type": "code",
   "execution_count": null,
   "metadata": {},
   "outputs": [],
   "source": []
  }
 ],
 "metadata": {
  "kernelspec": {
   "display_name": "Python 3 (ipykernel)",
   "language": "python",
   "name": "python3"
  },
  "language_info": {
   "codemirror_mode": {
    "name": "ipython",
    "version": 3
   },
   "file_extension": ".py",
   "mimetype": "text/x-python",
   "name": "python",
   "nbconvert_exporter": "python",
   "pygments_lexer": "ipython3",
   "version": "3.10.8"
  }
 },
 "nbformat": 4,
 "nbformat_minor": 1
}
